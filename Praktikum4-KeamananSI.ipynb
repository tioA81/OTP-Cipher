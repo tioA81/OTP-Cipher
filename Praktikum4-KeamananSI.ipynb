{
 "cells": [
  {
   "cell_type": "code",
   "execution_count": null,
   "id": "ce13a790-9f26-41a2-b652-5946618ccfca",
   "metadata": {},
   "outputs": [
    {
     "name": "stdout",
     "output_type": "stream",
     "text": [
      "=== One-Time Pad Cipher ===\n"
     ]
    },
    {
     "name": "stdin",
     "output_type": "stream",
     "text": [
      "Mode (encrypt/decrypt):  decrypt\n",
      "Enter ciphertext:  respati\n"
     ]
    }
   ],
   "source": [
    "import random\n",
    "import string\n",
    "\n",
    "def generate_key(length):\n",
    "    \"\"\"Generate a random key of uppercase letters.\"\"\"\n",
    "    return ''.join(random.choice(string.ascii_uppercase) for _ in range(length))\n",
    "def text_to_numbers(text):\n",
    "    \"\"\"Convert A-Z to 0-25\"\"\"\n",
    "    return [ord(c) - ord('A') for c in text]\n",
    "def numbers_to_text(numbers):\n",
    "    \"\"\"Convert 0-25 to A-Z\"\"\"\n",
    "    return ''.join(chr(n + ord('A')) for n in numbers)\n",
    "def otp_encrypt(plaintext, key):\n",
    "    plain_nums = text_to_numbers(plaintext)\n",
    "    key_nums = text_to_numbers(key)\n",
    "    cipher_nums = [(p + k) % 26 for p, k in zip(plain_nums, key_nums)]\n",
    "    return numbers_to_text(cipher_nums)\n",
    "def otp_decrypt(ciphertext, key):\n",
    "    cipher_nums = text_to_numbers(ciphertext)\n",
    "    key_nums = text_to_numbers(key)\n",
    "    plain_nums = [(c - k + 26) % 26 for c, k in zip(cipher_nums, key_nums)]\n",
    "    return numbers_to_text(plain_nums)\n",
    "def clean_input(text):\n",
    "    \"\"\"Uppercase and remove non-letter characters.\"\"\"\n",
    "    return ''.join(filter(str.isalpha, text.upper()))\n",
    "\n",
    "if __name__ == \"__main__\":\n",
    "    print(\"=== One-Time Pad Cipher ===\")\n",
    "    mode = input(\"Mode (encrypt/decrypt): \").strip().lower()\n",
    "\n",
    "    if mode == \"encrypt\":\n",
    "        plaintext = clean_input(input(\"Enter plaintext: \"))\n",
    "        key = generate_key(len(plaintext))\n",
    "        ciphertext = otp_encrypt(plaintext, key)\n",
    "        print(\"\\n--- Encryption Result ---\")\n",
    "        print(\"Plaintext :\", plaintext)\n",
    "        print(\"Key       :\", key)\n",
    "        print(\"Ciphertext:\", ciphertext)\n",
    "\n",
    "    elif mode == \"decrypt\":\n",
    "        ciphertext = clean_input(input(\"Enter ciphertext: \"))\n",
    "        key = clean_input(input(\"Enter key (same length): \"))\n",
    "        if len(ciphertext) != len(key):\n",
    "            print(\"Error: Key length must match ciphertext length.\")\n",
    "        else:\n",
    "            plaintext = otp_decrypt(ciphertext, key)\n",
    "            print(\"\\n--- Decryption Result ---\")\n",
    "            print(\"Ciphertext:\", ciphertext)\n",
    "            print(\"Key       :\", key)\n",
    "            print(\"Plaintext :\", plaintext)\n",
    "    else:\n",
    "        print(\"Invalid mode. Use 'encrypt' or 'decrypt'.\")"
   ]
  }
 ],
 "metadata": {
  "kernelspec": {
   "display_name": "Python [conda env:base] *",
   "language": "python",
   "name": "conda-base-py"
  },
  "language_info": {
   "codemirror_mode": {
    "name": "ipython",
    "version": 3
   },
   "file_extension": ".py",
   "mimetype": "text/x-python",
   "name": "python",
   "nbconvert_exporter": "python",
   "pygments_lexer": "ipython3",
   "version": "3.12.7"
  }
 },
 "nbformat": 4,
 "nbformat_minor": 5
}
